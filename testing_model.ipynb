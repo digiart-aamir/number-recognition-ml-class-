{
 "cells": [
  {
   "cell_type": "markdown",
   "id": "26dcfcd4",
   "metadata": {},
   "source": [
    "# testing model"
   ]
  },
  {
   "cell_type": "code",
   "execution_count": 6,
   "id": "cbe7bb96",
   "metadata": {},
   "outputs": [],
   "source": [
    "# libraries\n",
    "import pickle\n",
    "from PIL import Image\n",
    "import pandas as pd\n",
    "import numpy as np"
   ]
  },
  {
   "cell_type": "markdown",
   "id": "6277fccf",
   "metadata": {},
   "source": [
    "## 1. load model"
   ]
  },
  {
   "cell_type": "code",
   "execution_count": 5,
   "id": "50a4264f",
   "metadata": {},
   "outputs": [],
   "source": [
    "with open('model/best_knn_model.pkl', 'rb') as file:\n",
    "    model = pickle.load(file)"
   ]
  },
  {
   "cell_type": "markdown",
   "id": "86102d3c",
   "metadata": {},
   "source": [
    "## 2. data"
   ]
  },
  {
   "cell_type": "code",
   "execution_count": 48,
   "id": "cc18c3b9",
   "metadata": {},
   "outputs": [
    {
     "name": "stdout",
     "output_type": "stream",
     "text": [
      "DataFrame from PNG image:\n"
     ]
    },
    {
     "data": {
      "text/html": [
       "<div>\n",
       "<style scoped>\n",
       "    .dataframe tbody tr th:only-of-type {\n",
       "        vertical-align: middle;\n",
       "    }\n",
       "\n",
       "    .dataframe tbody tr th {\n",
       "        vertical-align: top;\n",
       "    }\n",
       "\n",
       "    .dataframe thead th {\n",
       "        text-align: right;\n",
       "    }\n",
       "</style>\n",
       "<table border=\"1\" class=\"dataframe\">\n",
       "  <thead>\n",
       "    <tr style=\"text-align: right;\">\n",
       "      <th></th>\n",
       "      <th>0</th>\n",
       "      <th>1</th>\n",
       "      <th>2</th>\n",
       "      <th>3</th>\n",
       "      <th>4</th>\n",
       "      <th>5</th>\n",
       "      <th>6</th>\n",
       "      <th>7</th>\n",
       "      <th>8</th>\n",
       "      <th>9</th>\n",
       "      <th>...</th>\n",
       "      <th>54</th>\n",
       "      <th>55</th>\n",
       "      <th>56</th>\n",
       "      <th>57</th>\n",
       "      <th>58</th>\n",
       "      <th>59</th>\n",
       "      <th>60</th>\n",
       "      <th>61</th>\n",
       "      <th>62</th>\n",
       "      <th>63</th>\n",
       "    </tr>\n",
       "  </thead>\n",
       "  <tbody>\n",
       "    <tr>\n",
       "      <th>0</th>\n",
       "      <td>15</td>\n",
       "      <td>15</td>\n",
       "      <td>15</td>\n",
       "      <td>15</td>\n",
       "      <td>15</td>\n",
       "      <td>14</td>\n",
       "      <td>14</td>\n",
       "      <td>15</td>\n",
       "      <td>15</td>\n",
       "      <td>15</td>\n",
       "      <td>...</td>\n",
       "      <td>15</td>\n",
       "      <td>15</td>\n",
       "      <td>15</td>\n",
       "      <td>15</td>\n",
       "      <td>15</td>\n",
       "      <td>15</td>\n",
       "      <td>15</td>\n",
       "      <td>15</td>\n",
       "      <td>15</td>\n",
       "      <td>15</td>\n",
       "    </tr>\n",
       "  </tbody>\n",
       "</table>\n",
       "<p>1 rows × 64 columns</p>\n",
       "</div>"
      ],
      "text/plain": [
       "   0   1   2   3   4   5   6   7   8   9   ...  54  55  56  57  58  59  60  \\\n",
       "0  15  15  15  15  15  14  14  15  15  15  ...  15  15  15  15  15  15  15   \n",
       "\n",
       "   61  62  63  \n",
       "0  15  15  15  \n",
       "\n",
       "[1 rows x 64 columns]"
      ]
     },
     "execution_count": 48,
     "metadata": {},
     "output_type": "execute_result"
    }
   ],
   "source": [
    "# Actual ouput\n",
    "output= 5\n",
    "\n",
    "# Load PNG image\n",
    "img = Image.open('images/test.png')\n",
    "\n",
    "# Convert image to grayscale (if necessary)\n",
    "img_gray = img.convert('L')\n",
    "\n",
    "# Resize image to 8x8 pixels\n",
    "img_resized = img_gray.resize((8, 8))\n",
    "\n",
    "# Convert image to numpy array\n",
    "img_array = np.array(img_resized)\n",
    "\n",
    "# Flatten the 2D array into a 1D array (vector)\n",
    "img_flattened = (img_array.flatten() / 16).astype(int)\n",
    "\n",
    "# Create a DataFrame from the flattened image array\n",
    "df = pd.DataFrame([img_flattened])\n",
    "\n",
    "# Display the DataFrame (optional)\n",
    "print(\"DataFrame from PNG image:\")\n",
    "df"
   ]
  },
  {
   "cell_type": "markdown",
   "id": "9adfe92e",
   "metadata": {},
   "source": [
    "## 3. Predict "
   ]
  },
  {
   "cell_type": "code",
   "execution_count": 44,
   "id": "b2f39a15",
   "metadata": {},
   "outputs": [
    {
     "name": "stderr",
     "output_type": "stream",
     "text": [
      "C:\\ProgramData\\anaconda3\\Lib\\site-packages\\sklearn\\base.py:439: UserWarning: X does not have valid feature names, but KNeighborsClassifier was fitted with feature names\n",
      "  warnings.warn(\n"
     ]
    }
   ],
   "source": [
    "pred= model.predict(df)"
   ]
  },
  {
   "cell_type": "markdown",
   "id": "e0c8fb08",
   "metadata": {},
   "source": [
    "## 4. Compare"
   ]
  },
  {
   "cell_type": "code",
   "execution_count": 47,
   "id": "de0f0e07",
   "metadata": {},
   "outputs": [
    {
     "data": {
      "text/plain": [
       "array([ True])"
      ]
     },
     "execution_count": 47,
     "metadata": {},
     "output_type": "execute_result"
    }
   ],
   "source": [
    "output == pred"
   ]
  },
  {
   "cell_type": "markdown",
   "id": "d17b4462",
   "metadata": {},
   "source": [
    "## True"
   ]
  }
 ],
 "metadata": {
  "kernelspec": {
   "display_name": "Python 3 (ipykernel)",
   "language": "python",
   "name": "python3"
  },
  "language_info": {
   "codemirror_mode": {
    "name": "ipython",
    "version": 3
   },
   "file_extension": ".py",
   "mimetype": "text/x-python",
   "name": "python",
   "nbconvert_exporter": "python",
   "pygments_lexer": "ipython3",
   "version": "3.11.3"
  }
 },
 "nbformat": 4,
 "nbformat_minor": 5
}
